{
 "cells": [
  {
   "cell_type": "code",
   "metadata": {
    "collapsed": false,
    "ExecuteTime": {
     "end_time": "2025-04-21T16:31:57.864033Z",
     "start_time": "2025-04-21T16:31:57.862004Z"
    }
   },
   "source": [
    "import os\n",
    "import sys\n",
    "\n",
    "root_path = os.path.abspath(os.path.join(os.getcwd(), '../..'))\n",
    "sys.path.append(root_path)"
   ],
   "outputs": [],
   "execution_count": 1
  },
  {
   "cell_type": "code",
   "metadata": {
    "ExecuteTime": {
     "end_time": "2025-04-21T16:32:00.133432Z",
     "start_time": "2025-04-21T16:31:57.867127Z"
    }
   },
   "source": [
    "from hummingbot.strategy_v2.utils.distributions import Distributions\n",
    "from controllers.market_making.pmm_simple import PMMSimpleConfig\n",
    "from core.backtesting.optimizer import BacktestingConfig, BaseStrategyConfigGenerator\n",
    "from hummingbot.strategy_v2.executors.position_executor.data_types import TrailingStop\n",
    "from decimal import Decimal\n",
    "\n",
    "\n",
    "class PMMSimpleConfigGenerator(BaseStrategyConfigGenerator):\n",
    "    \"\"\"\n",
    "    Strategy configuration generator for PMM Simple optimization.\n",
    "    \"\"\"\n",
    "    async def generate_config(self, trial) -> BacktestingConfig:\n",
    "        # Controller configuration\n",
    "        connector_name = \"binance_perpetual\"\n",
    "        trading_pair = \"1000PEPE-USDT\"\n",
    "        total_amount_quote = 1000\n",
    "        take_profit = trial.suggest_float(\"take_profit\", 0.01, 0.03, step=0.01)\n",
    "        stop_loss = trial.suggest_float(\"stop_loss\", 0.01, 0.05, step=0.01)\n",
    "        levels = trial.suggest_int(\"levels\", 3, 5)\n",
    "        start_spread = trial.suggest_float(\"start_spread\", 0.002, 0.005, step=0.001)\n",
    "        step_spread = trial.suggest_float(\"step_spread\", 0.001, 0.002, step=0.001)\n",
    "        spreads = Distributions.arithmetic(levels, start_spread, step_spread)\n",
    "        trailing_stop_activation_price = trial.suggest_float(\"trailing_stop_activation_price\", 0.005, 0.015, step=0.01)\n",
    "        trailing_delta_ratio = trial.suggest_float(\"trailing_delta_ratio\", 0.05, 0.1, step=0.01)\n",
    "        trailing_stop_trailing_delta = trailing_stop_activation_price * trailing_delta_ratio\n",
    "        time_limit = trial.suggest_int(\"time_limit\", 60 * 60 * 2, 60 * 60 * 4, step=60 * 60)\n",
    "        executor_refresh_time = trial.suggest_int(\"executor_refresh_time\", 60 * 2, 60 * 10, step=60)\n",
    "        cooldown_time = trial.suggest_int(\"cooldown_time\", 60 * 5, 60 * 10, step=60)\n",
    "\n",
    "\n",
    "        # Creating the instance of the configuration and the controller\n",
    "        config = PMMSimpleConfig(\n",
    "            connector_name=connector_name,\n",
    "            trading_pair=trading_pair,\n",
    "            sell_spreads=spreads,\n",
    "            buy_spreads=spreads,\n",
    "            total_amount_quote=Decimal(total_amount_quote),\n",
    "            take_profit=Decimal(take_profit),\n",
    "            stop_loss=Decimal(stop_loss),\n",
    "            trailing_stop=TrailingStop(activation_price=Decimal(trailing_stop_activation_price), trailing_delta=Decimal(trailing_stop_trailing_delta)),\n",
    "            time_limit=time_limit,\n",
    "            cooldown_time=cooldown_time,\n",
    "            executor_refresh_time=executor_refresh_time\n",
    "        )\n",
    "\n",
    "        # Return the configuration encapsulated in BacktestingConfig\n",
    "        return BacktestingConfig(config=config, start=self.start, end=self.end)"
   ],
   "outputs": [],
   "execution_count": 2
  },
  {
   "cell_type": "code",
   "metadata": {
    "is_executing": true,
    "jupyter": {
     "is_executing": true
    },
    "ExecuteTime": {
     "start_time": "2025-04-21T16:32:00.176383Z"
    }
   },
   "source": [
    "from core.backtesting.optimizer import StrategyOptimizer\n",
    "import datetime\n",
    "\n",
    "start_date = datetime.datetime(2024, 8, 1)\n",
    "end_date = datetime.datetime(2024, 8, 3)\n",
    "config_generator = PMMSimpleConfigGenerator(start_date=start_date, end_date=end_date)\n",
    "\n",
    "optimizer = StrategyOptimizer(root_path=root_path)\n",
    "await optimizer.optimize(\n",
    "    study_name=\"pmm_simple_with_optimizer\",\n",
    "    config_generator=config_generator,\n",
    "    n_trials=100,\n",
    ")"
   ],
   "outputs": [
    {
     "name": "stderr",
     "output_type": "stream",
     "text": [
      "[I 2025-04-21 23:32:01,016] A new study created in RDB with name: pmm_simple_with_optimizer\n",
      "2025-04-21 23:32:01,263 - asyncio - ERROR - Unclosed client session\n",
      "client_session: <aiohttp.client.ClientSession object at 0x30d4b3a00>\n",
      "2025-04-21 23:32:01,263 - asyncio - ERROR - Unclosed connector\n",
      "connections: ['deque([(<aiohttp.client_proto.ResponseHandler object at 0x3082fa8c0>, 14588.315770333)])']\n",
      "connector: <aiohttp.connector.TCPConnector object at 0x30d4b3eb0>\n",
      "2025-04-21 23:32:01,853 - asyncio - ERROR - Unclosed client session\n",
      "client_session: <aiohttp.client.ClientSession object at 0x30d5387c0>\n",
      "2025-04-21 23:32:01,855 - asyncio - ERROR - Unclosed connector\n",
      "connections: ['deque([(<aiohttp.client_proto.ResponseHandler object at 0x30d524460>, 14588.906098125)])']\n",
      "connector: <aiohttp.connector.TCPConnector object at 0x30d5387f0>\n",
      "2025-04-21 23:32:02,421 - asyncio - ERROR - Unclosed client session\n",
      "client_session: <aiohttp.client.ClientSession object at 0x30d4ebca0>\n",
      "2025-04-21 23:32:02,424 - asyncio - ERROR - Unclosed connector\n",
      "connections: ['deque([(<aiohttp.client_proto.ResponseHandler object at 0x30d5246a0>, 14589.473616375)])']\n",
      "connector: <aiohttp.connector.TCPConnector object at 0x30d4ebcd0>\n",
      "2025-04-21 23:32:15,326 - asyncio - ERROR - Unclosed client session\n",
      "client_session: <aiohttp.client.ClientSession object at 0x30df50ca0>\n",
      "2025-04-21 23:32:15,328 - asyncio - ERROR - Unclosed connector\n",
      "connections: ['deque([(<aiohttp.client_proto.ResponseHandler object at 0x30d42ca60>, 14602.377530833)])']\n",
      "connector: <aiohttp.connector.TCPConnector object at 0x30df527a0>\n"
     ]
    }
   ],
   "execution_count": null
  },
  {
   "cell_type": "code",
   "source": [
    "optimizer.launch_optuna_dashboard()"
   ],
   "metadata": {
    "collapsed": false
   },
   "outputs": [],
   "execution_count": null
  },
  {
   "cell_type": "code",
   "source": [],
   "metadata": {
    "collapsed": false
   },
   "outputs": [],
   "execution_count": null
  }
 ],
 "metadata": {
  "kernelspec": {
   "display_name": "Python 3",
   "language": "python",
   "name": "python3"
  },
  "language_info": {
   "codemirror_mode": {
    "name": "ipython",
    "version": 3
   },
   "file_extension": ".py",
   "mimetype": "text/x-python",
   "name": "python",
   "nbconvert_exporter": "python",
   "pygments_lexer": "ipython3",
   "version": "3.10.14"
  }
 },
 "nbformat": 4,
 "nbformat_minor": 0
}
