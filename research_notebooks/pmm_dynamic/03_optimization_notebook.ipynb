{
 "cells": [
  {
   "cell_type": "code",
   "metadata": {
    "collapsed": false,
    "ExecuteTime": {
     "end_time": "2025-04-27T15:31:15.078179Z",
     "start_time": "2025-04-27T15:31:15.075885Z"
    }
   },
   "source": [
    "import os\n",
    "import sys\n",
    "\n",
    "root_path = os.path.abspath(os.path.join(os.getcwd(), '../..'))\n",
    "sys.path.append(root_path)"
   ],
   "outputs": [],
   "execution_count": 1
  },
  {
   "cell_type": "code",
   "metadata": {
    "ExecuteTime": {
     "end_time": "2025-04-27T15:31:15.980106Z",
     "start_time": "2025-04-27T15:31:15.086394Z"
    }
   },
   "source": [
    "from hummingbot.strategy_v2.utils.distributions import Distributions\n",
    "from controllers.market_making.pmm_dynamic import PMMDynamicControllerConfig\n",
    "from core.backtesting.optimizer import BacktestingConfig, BaseStrategyConfigGenerator\n",
    "from hummingbot.strategy_v2.executors.position_executor.data_types import TrailingStop\n",
    "from decimal import Decimal\n",
    "\n",
    "\n",
    "class PMMDynamicConfigGenerator(BaseStrategyConfigGenerator):\n",
    "    \"\"\"\n",
    "    Strategy configuration generator for PMM Simple optimization.\n",
    "    \"\"\"\n",
    "    async def generate_config(self, trial) -> BacktestingConfig:\n",
    "        # Controller configuration\n",
    "        connector_name = \"binance_perpetual\"\n",
    "        trading_pair = \"BTC-USDT\"\n",
    "        candles_connector = \"binance\"\n",
    "        candles_trading_pair = \"BTC-USDT\"\n",
    "        total_amount_quote = 1000\n",
    "        take_profit = trial.suggest_float(\"take_profit\", 0.01, 0.03, step=0.01)\n",
    "        stop_loss = trial.suggest_float(\"stop_loss\", 0.01, 0.05, step=0.01)\n",
    "        levels = trial.suggest_int(\"levels\", 3, 5)\n",
    "        start_spread = trial.suggest_float(\"start_spread\", 0.002, 0.005, step=0.001)\n",
    "        step_spread = trial.suggest_float(\"step_spread\", 0.001, 0.002, step=0.001)\n",
    "        spreads = Distributions.arithmetic(levels, start_spread, step_spread)\n",
    "        trailing_stop_activation_price = trial.suggest_float(\"trailing_stop_activation_price\", 0.005, 0.015, step=0.01)\n",
    "        trailing_delta_ratio = trial.suggest_float(\"trailing_delta_ratio\", 0.05, 0.1, step=0.01)\n",
    "        trailing_stop_trailing_delta = trailing_stop_activation_price * trailing_delta_ratio\n",
    "        time_limit = trial.suggest_int(\"time_limit\", 60 * 60 * 2, 60 * 60 * 4, step=60 * 60)\n",
    "        executor_refresh_time = trial.suggest_int(\"executor_refresh_time\", 60 * 2, 60 * 10, step=60)\n",
    "        cooldown_time = trial.suggest_int(\"cooldown_time\", 60 * 5, 60 * 10, step=60)\n",
    "\n",
    "        macd_fast = \"5\"\n",
    "        macd_slow = \"15\"\n",
    "        macd_signal = \"21\"\n",
    "        natr_length = \"5\"\n",
    "\n",
    "\n",
    "        # Creating the instance of the configuration and the controller\n",
    "        config = PMMDynamicControllerConfig(\n",
    "            connector_name=connector_name,\n",
    "            candles_connector=candles_connector,\n",
    "            candles_trading_pair=candles_trading_pair,\n",
    "            trading_pair=trading_pair,\n",
    "            sell_spreads=spreads,\n",
    "            buy_spreads=spreads,\n",
    "            total_amount_quote=Decimal(total_amount_quote),\n",
    "            take_profit=Decimal(take_profit),\n",
    "            stop_loss=Decimal(stop_loss),\n",
    "            trailing_stop=TrailingStop(activation_price=Decimal(trailing_stop_activation_price), trailing_delta=Decimal(trailing_stop_trailing_delta)),\n",
    "            time_limit=time_limit,\n",
    "            cooldown_time=cooldown_time,\n",
    "            executor_refresh_time=executor_refresh_time,\n",
    "            macd_fast=macd_fast,\n",
    "            macd_slow=macd_slow,\n",
    "            macd_signal=macd_signal,\n",
    "            natr_length=natr_length\n",
    "        )\n",
    "\n",
    "        # Return the configuration encapsulated in BacktestingConfig\n",
    "        return BacktestingConfig(config=config, start=self.start, end=self.end)"
   ],
   "outputs": [
    {
     "ename": "ImportError",
     "evalue": "cannot import name 'field_validator' from 'pydantic' (/opt/anaconda3/envs/quants-lab/lib/python3.10/site-packages/pydantic/__init__.cpython-310-darwin.so)",
     "output_type": "error",
     "traceback": [
      "\u001B[0;31m---------------------------------------------------------------------------\u001B[0m",
      "\u001B[0;31mImportError\u001B[0m                               Traceback (most recent call last)",
      "Cell \u001B[0;32mIn[2], line 2\u001B[0m\n\u001B[1;32m      1\u001B[0m \u001B[38;5;28;01mfrom\u001B[39;00m\u001B[38;5;250m \u001B[39m\u001B[38;5;21;01mhummingbot\u001B[39;00m\u001B[38;5;21;01m.\u001B[39;00m\u001B[38;5;21;01mstrategy_v2\u001B[39;00m\u001B[38;5;21;01m.\u001B[39;00m\u001B[38;5;21;01mutils\u001B[39;00m\u001B[38;5;21;01m.\u001B[39;00m\u001B[38;5;21;01mdistributions\u001B[39;00m\u001B[38;5;250m \u001B[39m\u001B[38;5;28;01mimport\u001B[39;00m Distributions\n\u001B[0;32m----> 2\u001B[0m \u001B[38;5;28;01mfrom\u001B[39;00m\u001B[38;5;250m \u001B[39m\u001B[38;5;21;01mcontrollers\u001B[39;00m\u001B[38;5;21;01m.\u001B[39;00m\u001B[38;5;21;01mmarket_making\u001B[39;00m\u001B[38;5;21;01m.\u001B[39;00m\u001B[38;5;21;01mpmm_dynamic\u001B[39;00m\u001B[38;5;250m \u001B[39m\u001B[38;5;28;01mimport\u001B[39;00m PMMDynamicControllerConfig\n\u001B[1;32m      3\u001B[0m \u001B[38;5;28;01mfrom\u001B[39;00m\u001B[38;5;250m \u001B[39m\u001B[38;5;21;01mcore\u001B[39;00m\u001B[38;5;21;01m.\u001B[39;00m\u001B[38;5;21;01mbacktesting\u001B[39;00m\u001B[38;5;21;01m.\u001B[39;00m\u001B[38;5;21;01moptimizer\u001B[39;00m\u001B[38;5;250m \u001B[39m\u001B[38;5;28;01mimport\u001B[39;00m BacktestingConfig, BaseStrategyConfigGenerator\n\u001B[1;32m      4\u001B[0m \u001B[38;5;28;01mfrom\u001B[39;00m\u001B[38;5;250m \u001B[39m\u001B[38;5;21;01mhummingbot\u001B[39;00m\u001B[38;5;21;01m.\u001B[39;00m\u001B[38;5;21;01mstrategy_v2\u001B[39;00m\u001B[38;5;21;01m.\u001B[39;00m\u001B[38;5;21;01mexecutors\u001B[39;00m\u001B[38;5;21;01m.\u001B[39;00m\u001B[38;5;21;01mposition_executor\u001B[39;00m\u001B[38;5;21;01m.\u001B[39;00m\u001B[38;5;21;01mdata_types\u001B[39;00m\u001B[38;5;250m \u001B[39m\u001B[38;5;28;01mimport\u001B[39;00m TrailingStop\n",
      "File \u001B[0;32m~/Documents/2_Project/hummingbot_trade/quants-lab/controllers/market_making/pmm_dynamic.py:5\u001B[0m\n\u001B[1;32m      2\u001B[0m \u001B[38;5;28;01mfrom\u001B[39;00m\u001B[38;5;250m \u001B[39m\u001B[38;5;21;01mtyping\u001B[39;00m\u001B[38;5;250m \u001B[39m\u001B[38;5;28;01mimport\u001B[39;00m List\n\u001B[1;32m      4\u001B[0m \u001B[38;5;28;01mimport\u001B[39;00m\u001B[38;5;250m \u001B[39m\u001B[38;5;21;01mpandas_ta\u001B[39;00m\u001B[38;5;250m \u001B[39m\u001B[38;5;28;01mas\u001B[39;00m\u001B[38;5;250m \u001B[39m\u001B[38;5;21;01mta\u001B[39;00m  \u001B[38;5;66;03m# noqa: F401\u001B[39;00m\n\u001B[0;32m----> 5\u001B[0m \u001B[38;5;28;01mfrom\u001B[39;00m\u001B[38;5;250m \u001B[39m\u001B[38;5;21;01mpydantic\u001B[39;00m\u001B[38;5;250m \u001B[39m\u001B[38;5;28;01mimport\u001B[39;00m Field, field_validator\n\u001B[1;32m      6\u001B[0m \u001B[38;5;28;01mfrom\u001B[39;00m\u001B[38;5;250m \u001B[39m\u001B[38;5;21;01mpydantic_core\u001B[39;00m\u001B[38;5;21;01m.\u001B[39;00m\u001B[38;5;21;01mcore_schema\u001B[39;00m\u001B[38;5;250m \u001B[39m\u001B[38;5;28;01mimport\u001B[39;00m ValidationInfo\n\u001B[1;32m      8\u001B[0m \u001B[38;5;28;01mfrom\u001B[39;00m\u001B[38;5;250m \u001B[39m\u001B[38;5;21;01mhummingbot\u001B[39;00m\u001B[38;5;21;01m.\u001B[39;00m\u001B[38;5;21;01mdata_feed\u001B[39;00m\u001B[38;5;21;01m.\u001B[39;00m\u001B[38;5;21;01mcandles_feed\u001B[39;00m\u001B[38;5;21;01m.\u001B[39;00m\u001B[38;5;21;01mdata_types\u001B[39;00m\u001B[38;5;250m \u001B[39m\u001B[38;5;28;01mimport\u001B[39;00m CandlesConfig\n",
      "\u001B[0;31mImportError\u001B[0m: cannot import name 'field_validator' from 'pydantic' (/opt/anaconda3/envs/quants-lab/lib/python3.10/site-packages/pydantic/__init__.cpython-310-darwin.so)"
     ]
    }
   ],
   "execution_count": 2
  },
  {
   "cell_type": "code",
   "metadata": {
    "is_executing": true,
    "jupyter": {
     "is_executing": true
    }
   },
   "source": [
    "from core.backtesting.optimizer import StrategyOptimizer\n",
    "import datetime\n",
    "\n",
    "start = int(datetime.datetime(2025, 4, 18).timestamp())\n",
    "end = int(datetime.datetime(2025, 4, 22).timestamp())\n",
    "config_generator = PMMDynamicConfigGenerator(start_date=start_date, end_date=end_date)\n",
    "\n",
    "optimizer = StrategyOptimizer(root_path=root_path)\n",
    "optimizer.load_candles_cache_by_connector_pair(\"binance_perpetual\",\"BTC-USDT\")\n",
    "await optimizer.optimize(\n",
    "    study_name=\"pmm_simple_with_optimizer\",\n",
    "    config_generator=config_generator,\n",
    "    n_trials=100,\n",
    ")"
   ],
   "outputs": [],
   "execution_count": null
  },
  {
   "cell_type": "code",
   "source": [
    "optimizer.launch_optuna_dashboard()"
   ],
   "metadata": {
    "collapsed": false
   },
   "outputs": [],
   "execution_count": null
  },
  {
   "cell_type": "code",
   "source": [],
   "metadata": {
    "collapsed": false
   },
   "outputs": [],
   "execution_count": null
  }
 ],
 "metadata": {
  "kernelspec": {
   "display_name": "Python 3",
   "language": "python",
   "name": "python3"
  },
  "language_info": {
   "codemirror_mode": {
    "name": "ipython",
    "version": 3
   },
   "file_extension": ".py",
   "mimetype": "text/x-python",
   "name": "python",
   "nbconvert_exporter": "python",
   "pygments_lexer": "ipython3",
   "version": "3.10.14"
  }
 },
 "nbformat": 4,
 "nbformat_minor": 0
}
